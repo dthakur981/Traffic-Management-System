{
 "cells": [
  {
   "cell_type": "markdown",
   "metadata": {},
   "source": [
    "# Vechile Detection and Counting "
   ]
  },
  {
   "cell_type": "code",
   "execution_count": 102,
   "metadata": {},
   "outputs": [],
   "source": [
    "import cv2\n",
    "import numpy as np;\n",
    "import os\n",
    "import re\n",
    "from time import sleep\n",
    "import time\n",
    "import matplotlib.pyplot as plt"
   ]
  },
  {
   "cell_type": "code",
   "execution_count": 103,
   "metadata": {},
   "outputs": [],
   "source": [
    "# Video Capture  \n",
    "cap = cv2.VideoCapture(\"Lane1.mp4\")\n",
    "\n",
    "object_detection = cv2.createBackgroundSubtractorKNN()  \n",
    "\n",
    "detect = []\n",
    "vechile = 0"
   ]
  },
  {
   "cell_type": "code",
   "execution_count": 104,
   "metadata": {},
   "outputs": [
    {
     "name": "stdout",
     "output_type": "stream",
     "text": [
      "720 1280\n"
     ]
    }
   ],
   "source": [
    "#Reading individual frame to know the dimension of the capturing frame  \n",
    "ret, frame1 = cap.read()\n",
    "\n",
    "height = frame1.shape[0]\n",
    "width =  frame1.shape[1]\n",
    "\n",
    "print(height, width)"
   ]
  },
  {
   "cell_type": "code",
   "execution_count": 105,
   "metadata": {},
   "outputs": [],
   "source": [
    "#Finding the centroid of the largest contour corresponding to each vechile \n",
    "def centroid(x, y, w, h):\n",
    "    x1 = int(w / 2)\n",
    "    y1 = int(h / 2)\n",
    "    cx = x + x1\n",
    "    cy = y + y1\n",
    "    return cx,cy"
   ]
  },
  {
   "cell_type": "code",
   "execution_count": 106,
   "metadata": {},
   "outputs": [
    {
     "name": "stdout",
     "output_type": "stream",
     "text": [
      "0\n",
      "0\n",
      "0\n",
      "0\n",
      "0\n",
      "0\n",
      "0\n",
      "0\n",
      "0\n",
      "0\n",
      "0\n",
      "0\n",
      "0\n",
      "0\n",
      "0\n",
      "0\n",
      "0\n",
      "0\n",
      "0\n",
      "0\n",
      "0\n",
      "0\n",
      "0\n",
      "0\n",
      "0\n",
      "0\n",
      "0\n",
      "0\n",
      "Car is detected1\n",
      "1\n",
      "1\n",
      "1\n",
      "1\n"
     ]
    }
   ],
   "source": [
    "''' Frame by Frame Processing for detection and counting '''\n",
    "while True:\n",
    "    \n",
    "    ret, frames = cap.read()                                                                                                                                                                                                                                                                                                                                                                                                                                                                                                                                                        \n",
    "    \n",
    "    gray = cv2.cvtColor(frames, cv2.COLOR_BGR2GRAY)\n",
    "    blur = cv2.GaussianBlur(gray,(3,3),5)\n",
    "    img_sub = object_detection.apply(blur)\n",
    "    dilat = cv2.dilate(img_sub,np.ones((5,5)))\n",
    "    kernel = cv2.getStructuringElement(cv2.MORPH_ELLIPSE,(5,5))\n",
    "    dilated = cv2.morphologyEx(dilat,cv2.MORPH_CLOSE, kernel)\n",
    "    dilated = cv2.morphologyEx(dilated,cv2.MORPH_CLOSE, kernel)\n",
    "    \n",
    "    #mask = object_detection.apply(frames)\n",
    "    #ret, thresh = cv2.threshold(mask, 30, 255, cv2.THRESH_BINARY)\n",
    "    \n",
    "    #kernel = np.ones((5, 5),np.uint8)\n",
    "    #dilated = cv2.dilate(thresh, kernel, iterations=1)\n",
    "    \n",
    "    #cv2.line(frames, (100,300), (450,300), (0,0,255), 2)\n",
    "    #cv2.line(frames, (180,200), (380,200), (0,0,255), 2)\n",
    "    \n",
    "    conts, _ = cv2.findContours(dilated, cv2.RETR_LIST, cv2.CHAIN_APPROX_SIMPLE)\n",
    "    cv2.line(frames, (25,550), (1200,550), (0,0,255), 2)\n",
    "    \n",
    "    for c in conts:    \n",
    "        if cv2.contourArea(c)<150:\n",
    "            continue\n",
    "            \n",
    "        (x,y,w,h) = cv2.boundingRect(c)\n",
    "        validar_contorno = (w >= 80) and (h >= 80)\n",
    "        if not validar_contorno:\n",
    "            continue\n",
    "        cv2.rectangle(frames,(x,y),(x+w,y+h),(0,255,0),2)\n",
    "        \n",
    "        center = centroid(x, y, w, h)\n",
    "        detect.append(center)\n",
    "        cv2.circle(frames, center, 3, (0,0,255),-1)\n",
    "    \n",
    "        for (x,y) in detect:\n",
    "            if (y<556) and (y>544):\n",
    "                vechile+=1;\n",
    "                cv2.line(frames, (100,300), (450,300), (0,0,255), 2)\n",
    "                #cv2.line(frames, (180,200), (380,200), (0,0,255), 2)\n",
    "                detect.remove((x,y))\n",
    "                print(\"Car is detected\"+str(vechile))\n",
    "        \n",
    "        cv2.putText(frames, \"Total Vechile :\"+str(vechile), (50,50), cv2.FONT_HERSHEY_PLAIN, 2, (0,0,0),  2)\n",
    "        \n",
    "        print(vechile)\n",
    "     \n",
    "    cv2.imshow(\"Processed_Video\",  frames)\n",
    "    key = cv2.waitKey(30)\n",
    "    \n",
    "    if(key==27):\n",
    "        break\n"
   ]
  },
  {
   "cell_type": "code",
   "execution_count": 107,
   "metadata": {},
   "outputs": [],
   "source": [
    "cap.release()\n",
    "cv2.destroyAllWindows()"
   ]
  },
  {
   "cell_type": "markdown",
   "metadata": {},
   "source": [
    "# Traffic Management Algorithm"
   ]
  },
  {
   "cell_type": "code",
   "execution_count": 82,
   "metadata": {},
   "outputs": [],
   "source": [
    "import random\n",
    "import math\n",
    "import time\n",
    "import sys\n",
    "import os\n",
    "import threading"
   ]
  },
  {
   "cell_type": "code",
   "execution_count": 83,
   "metadata": {},
   "outputs": [],
   "source": [
    "''' Assigning default values for signal times '''\n",
    "\n",
    "defaultRed = 150\n",
    "defaultYellow = 5\n",
    "defaultGreen = 20\n",
    "defaultMinimum  = 10\n",
    "defaultMaximum = 60\n",
    "noOfsignals = 4\n",
    "signals = []\n",
    "timeElapsed = 0"
   ]
  },
  {
   "cell_type": "code",
   "execution_count": 84,
   "metadata": {},
   "outputs": [],
   "source": [
    "#For changing te time of simulation the simTime is changed\n",
    "simTime = 300"
   ]
  },
  {
   "cell_type": "code",
   "execution_count": 85,
   "metadata": {},
   "outputs": [],
   "source": [
    "currentGreen = 0      #States which signal is green\n",
    "nextGreen = (currentGreen+1)%noOfsignals\n",
    "currentYellow = 0     #states whether the yellow signal is on or off"
   ]
  },
  {
   "cell_type": "code",
   "execution_count": 86,
   "metadata": {},
   "outputs": [],
   "source": [
    "''' Average time for different types vechile to pass the intersetion is preset'''\n",
    "\n",
    "carTime = 2\n",
    "bikeTime = 1\n",
    "rickshawTime = 2.25\n",
    "busTime = 2.5\n",
    "truckTime = 2.5\n",
    "\n",
    "''' Initializing the count of the vechile at the traffi signal'''\n",
    "\n",
    "noOfCars = 0\n",
    "noOfBikes = 0\n",
    "noOfBus = 0\n",
    "noOfTrucks = 0\n",
    "noOfRickshaws = 0\n",
    "noOfLanes = 2\n",
    "\n",
    "detectionTime = 5     # Red signal time at which cars will be detected at a signal\n",
    "\n",
    "speeds = {'car':2.25, 'bus':1.8, 'truck':1.8, 'rickshaw':2, 'bike':2.5}  # Average speeds of vehicles\n"
   ]
  },
  {
   "cell_type": "code",
   "execution_count": 87,
   "metadata": {},
   "outputs": [],
   "source": [
    "# Coordinates of start\n",
    "x = {'right':[0,0,0], 'down':[755,727,697], 'left':[1400,1400,1400], 'up':[602,627,657]}    \n",
    "y = {'right':[348,370,398], 'down':[0,0,0], 'left':[498,466,436], 'up':[800,800,800]}\n",
    "\n",
    "vehicles = {'right': {0:[], 1:[], 2:[], 'crossed':0}, 'down': {0:[], 1:[], 2:[], 'crossed':0}, 'left': {0:[], 1:[], 2:[], 'crossed':0}, 'up': {0:[], 1:[], 2:[], 'crossed':0}}\n",
    "vehicleTypes = {0:'car', 1:'bus', 2:'truck', 3:'rickshaw', 4:'bike'}\n",
    "directionNumbers = {0:'right', 1:'down', 2:'left', 3:'up'}\n",
    "\n",
    "# Coordinates of signal image, timer, and vehicle count\n",
    "signalCoods = [(530,230),(810,230),(810,570),(530,570)]\n",
    "signalTimerCoods = [(530,210),(810,210),(810,550),(530,550)]\n",
    "vehicleCountCoods = [(480,210),(880,210),(880,550),(480,550)]\n",
    "vehicleCountTexts = [\"0\", \"0\", \"0\", \"0\"]\n",
    "\n",
    "# Coordinates of stop lines\n",
    "stopLines = {'right': 590, 'down': 330, 'left': 800, 'up': 535}\n",
    "defaultStop = {'right': 580, 'down': 320, 'left': 810, 'up': 545}\n",
    "stops = {'right': [580,580,580], 'down': [320,320,320], 'left': [810,810,810], 'up': [545,545,545]}\n",
    "\n",
    "mid = {'right': {'x':705, 'y':445}, 'down': {'x':695, 'y':450}, 'left': {'x':695, 'y':425}, 'up': {'x':695, 'y':400}}\n",
    "rotationAngle = 3\n",
    "\n",
    "# Gap between vehicles\n",
    "gap = 15    # stopping gap\n",
    "gap2 = 15   # moving gap\n",
    "\n"
   ]
  },
  {
   "cell_type": "code",
   "execution_count": 88,
   "metadata": {},
   "outputs": [],
   "source": [
    "class TrafficSignal:\n",
    "    def __init__(self, red, yellow, green, minimum, maximum):\n",
    "        self.red = red\n",
    "        self.yellow = yellow\n",
    "        self.green = green\n",
    "        self.minimum = minimum\n",
    "        self.maximum = maximum\n",
    "        self.signalText = \"30\"\n",
    "        self.totalGreenTime = 0"
   ]
  },
  {
   "cell_type": "code",
   "execution_count": 89,
   "metadata": {},
   "outputs": [],
   "source": [
    "''' Initialization of signals with default values '''\n",
    "\n",
    "def initialize():\n",
    "    ts1 = TrafficSignal(0, defaultYellow, defaultGreen, defaultMinimum, defaultMaximum)\n",
    "    signals.append(ts1)\n",
    "    ts2 = TrafficSignal(ts1.red+ts1.yellow+ts1.green, defaultYellow, defaultGreen, defaultMinimum, defaultMaximum)\n",
    "    signals.append(ts2)\n",
    "    ts3 = TrafficSignal(defaultRed, defaultYellow, defaultGreen, defaultMinimum, defaultMaximum)\n",
    "    signals.append(ts3)\n",
    "    ts4 = TrafficSignal(defaultRed, defaultYellow, defaultGreen, defaultMinimum, defaultMaximum)\n",
    "    signals.append(ts4)\n",
    "    repeat()"
   ]
  },
  {
   "cell_type": "code",
   "execution_count": 91,
   "metadata": {},
   "outputs": [],
   "source": [
    "''' Set Time as per the case that when the number of vechile at a particular lane is more te Green signal alloted to the lane\n",
    "    will also be for more time'''\n",
    "\n",
    "def setTime():\n",
    "    global noOfCars, noOfBikes, noOfBuses, noOfTrucks, noOfRickshaws, noOfLanes\n",
    "    global carTime, busTime, truckTime, rickshawTime, bikeTime\n",
    "    os.system(\"say detecting vehicles, \"+directionNumbers[(currentGreen+1)%noOfSignals])\n",
    "    noOfCars, noOfBuses, noOfTrucks, noOfRickshaws, noOfBikes = 0,0,0,0,0\n",
    "    \n",
    "    # The two weeler have a differnt lane as per the reference  hance handelled differnetly\n",
    "    for j in range(len(vehicles[directionNumbers[nextGreen]][0])):\n",
    "        vehicle = vehicles[directionNumbers[nextGreen]][0][j]\n",
    "        if(vehicle.crossed==0):\n",
    "            vclass = vehicle.vehicleClass\n",
    "            # print(vclass)\n",
    "            noOfBikes += 1\n",
    "            \n",
    "    for i in range(1,3):\n",
    "        for j in range(len(vehicles[directionNumbers[nextGreen]][i])):\n",
    "            vehicle = vehicles[directionNumbers[nextGreen]][i][j]\n",
    "            if(vehicle.crossed==0):\n",
    "                vclass = vehicle.vehicleClass\n",
    "                # print(vclass)\n",
    "                if(vclass=='car'):\n",
    "                    noOfCars += 1\n",
    "                elif(vclass=='bus'):\n",
    "                    noOfBuses += 1\n",
    "                elif(vclass=='truck'):\n",
    "                    noOfTrucks += 1\n",
    "                elif(vclass=='rickshaw'):\n",
    "                    noOfRickshaws += 1\n",
    "    \n",
    "    greenTime = math.ceil(((noOfCars*carTime) + (noOfRickshaws*rickshawTime) + (noOfBuses*busTime) + (noOfTrucks*truckTime)+ (noOfBikes*bikeTime))/(noOfLanes+1))\n",
    "    print('Green Time: ',greenTime)\n",
    "    if(greenTime<defaultMinimum):\n",
    "        greenTime = defaultMinimum\n",
    "    elif(greenTime>defaultMaximum):\n",
    "        greenTime = defaultMaximum\n",
    "    # greenTime = random.randint(15,50)\n",
    "    signals[(currentGreen+1)%(noOfSignals)].green = greenTime\n",
    "    "
   ]
  },
  {
   "cell_type": "code",
   "execution_count": 92,
   "metadata": {},
   "outputs": [],
   "source": [
    "def repeat():\n",
    "    global currentGreen, currentYellow, nextGreen\n",
    "    while(signals[currentGreen].green>0):   # while the timer of current green signal is not zero\n",
    "        printStatus()\n",
    "        updateValues()\n",
    "        if(signals[(currentGreen+1)%(noOfSignals)].red==detectionTime):    # set time of next green signal \n",
    "            thread = threading.Thread(name=\"detection\",target=setTime, args=())\n",
    "            thread.daemon = True\n",
    "            thread.start()\n",
    "            # setTime()\n",
    "        time.sleep(1)\n",
    "    currentYellow = 1   # set yellow signal on\n",
    "    vehicleCountTexts[currentGreen] = \"0\"\n",
    "    # reset stop coordinates of lanes and vehicles \n",
    "    for i in range(0,3):\n",
    "        stops[directionNumbers[currentGreen]][i] = defaultStop[directionNumbers[currentGreen]]\n",
    "        for vehicle in vehicles[directionNumbers[currentGreen]][i]:\n",
    "            vehicle.stop = defaultStop[directionNumbers[currentGreen]]\n",
    "    while(signals[currentGreen].yellow>0):  # while the timer of current yellow signal is not zero\n",
    "        printStatus()\n",
    "        updateValues()\n",
    "        time.sleep(1)\n",
    "    currentYellow = 0   # set yellow signal off\n",
    "    \n",
    "    # reset all signal times of current signal to default times\n",
    "    signals[currentGreen].green = defaultGreen\n",
    "    signals[currentGreen].yellow = defaultYellow\n",
    "    signals[currentGreen].red = defaultRed\n",
    "       \n",
    "    currentGreen = nextGreen # set next signal as green signal\n",
    "    nextGreen = (currentGreen+1)%noOfSignals    # set next green signal\n",
    "    signals[nextGreen].red = signals[currentGreen].yellow+signals[currentGreen].green    # set the red time of next to next signal as (yellow time + green time) of next signal\n",
    "    repeat()     \n"
   ]
  },
  {
   "cell_type": "code",
   "execution_count": 93,
   "metadata": {},
   "outputs": [],
   "source": [
    "''' Print the signal timers on cmd '''\n",
    "\n",
    "def printStatus():                                                                                           \n",
    "    for i in range(0, noOfSignals):\n",
    "        if(i==currentGreen):\n",
    "            if(currentYellow==0):\n",
    "                print(\" GREEN TS\",i+1,\"-> r:\",signals[i].red,\" y:\",signals[i].yellow,\" g:\",signals[i].green)\n",
    "            else:\n",
    "                print(\"YELLOW TS\",i+1,\"-> r:\",signals[i].red,\" y:\",signals[i].yellow,\" g:\",signals[i].green)\n",
    "        else:\n",
    "            print(\"   RED TS\",i+1,\"-> r:\",signals[i].red,\" y:\",signals[i].yellow,\" g:\",signals[i].green)\n",
    "    print()"
   ]
  },
  {
   "cell_type": "code",
   "execution_count": 101,
   "metadata": {},
   "outputs": [],
   "source": [
    "''' Update values of the signal timers after every second '''\n",
    "def updateValues():\n",
    "    for i in range(0, noOfSignals):\n",
    "        if(i==currentGreen):\n",
    "            if(currentYellow==0):\n",
    "                signals[i].green-=1\n",
    "                signals[i].totalGreenTime+=1\n",
    "            else:\n",
    "                signals[i].yellow-=1\n",
    "        else:\n",
    "            signals[i].red-=1"
   ]
  }
 ],
 "metadata": {
  "kernelspec": {
   "display_name": "Python 3",
   "language": "python",
   "name": "python3"
  },
  "language_info": {
   "codemirror_mode": {
    "name": "ipython",
    "version": 3
   },
   "file_extension": ".py",
   "mimetype": "text/x-python",
   "name": "python",
   "nbconvert_exporter": "python",
   "pygments_lexer": "ipython3",
   "version": "3.9.1"
  }
 },
 "nbformat": 4,
 "nbformat_minor": 4
}
